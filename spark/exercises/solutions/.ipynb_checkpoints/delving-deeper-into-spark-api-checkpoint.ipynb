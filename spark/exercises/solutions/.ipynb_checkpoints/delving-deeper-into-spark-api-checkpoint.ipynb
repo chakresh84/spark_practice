{
 "cells": [
  {
   "cell_type": "markdown",
   "metadata": {},
   "source": [
    "#### Step 1: Place the required data set \"ratings.txt\" and \"movies.txt\" in HDFS"
   ]
  },
  {
   "cell_type": "code",
   "execution_count": 1,
   "metadata": {
    "collapsed": true
   },
   "outputs": [],
   "source": [
    "!hdfs dfs -put ~/training_materials/data/ratings.txt /user/cloudera\n",
    "!hdfs dfs -put ~/training_materials/data/movies.txt /user/cloudera "
   ]
  },
  {
   "cell_type": "markdown",
   "metadata": {},
   "source": [
    "#### Step 2: Review the contents of the \"ratings.txt\" file"
   ]
  },
  {
   "cell_type": "code",
   "execution_count": 2,
   "metadata": {
    "collapsed": false
   },
   "outputs": [
    {
     "name": "stdout",
     "output_type": "stream",
     "text": [
      "1::1193::5::978300760\n",
      "1::661::3::978302109\n",
      "1::914::3::978301968\n",
      "1::3408::4::978300275\n",
      "1::2355::5::978824291\n",
      "cat: Unable to write to output stream.\n"
     ]
    }
   ],
   "source": [
    "!hdfs dfs -cat ratings.txt | head -5"
   ]
  },
  {
   "cell_type": "markdown",
   "metadata": {},
   "source": [
    "#### Step 3: Review the contents of the \"movies.txt\" file"
   ]
  },
  {
   "cell_type": "code",
   "execution_count": 1,
   "metadata": {
    "collapsed": false
   },
   "outputs": [
    {
     "name": "stdout",
     "output_type": "stream",
     "text": [
      "cat: `movies.txt': No such file or directory\r\n"
     ]
    }
   ],
   "source": [
    "!hdfs dfs -cat movies.txt | head -5"
   ]
  },
  {
   "cell_type": "markdown",
   "metadata": {},
   "source": [
    "#### Step 4: Load the \"ratings.txt\" file in memory "
   ]
  },
  {
   "cell_type": "code",
   "execution_count": 1,
   "metadata": {
    "collapsed": true
   },
   "outputs": [],
   "source": [
    "ratings=sc.textFile(\"ratings.txt\")"
   ]
  },
  {
   "cell_type": "markdown",
   "metadata": {},
   "source": [
    "#### Step 5: Split the RDD based on the delimiter used in file i.e. “::”"
   ]
  },
  {
   "cell_type": "code",
   "execution_count": 2,
   "metadata": {
    "collapsed": true
   },
   "outputs": [],
   "source": [
    "ratings_split=ratings.map(lambda line: line.split('::'))"
   ]
  },
  {
   "cell_type": "markdown",
   "metadata": {},
   "source": [
    "#### Step 6:  Create a Pair RDD with key being movie ID and value being its rating "
   ]
  },
  {
   "cell_type": "code",
   "execution_count": 3,
   "metadata": {
    "collapsed": true
   },
   "outputs": [],
   "source": [
    "ratings_pairs=ratings_split.map(lambda fields: (str(fields[0]),int(fields[2])))"
   ]
  },
  {
   "cell_type": "markdown",
   "metadata": {},
   "source": [
    "#### Step 7: Group the ratings by key and observe the output"
   ]
  },
  {
   "cell_type": "code",
   "execution_count": 4,
   "metadata": {
    "collapsed": false
   },
   "outputs": [
    {
     "data": {
      "text/plain": [
       "[('1869', <pyspark.resultiterable.ResultIterable at 0x7f835082d090>),\n",
       " ('344', <pyspark.resultiterable.ResultIterable at 0x7f835082d250>),\n",
       " ('346', <pyspark.resultiterable.ResultIterable at 0x7f835082d290>),\n",
       " ('340', <pyspark.resultiterable.ResultIterable at 0x7f835082d2d0>),\n",
       " ('342', <pyspark.resultiterable.ResultIterable at 0x7f835082d310>)]"
      ]
     },
     "execution_count": 4,
     "metadata": {},
     "output_type": "execute_result"
    }
   ],
   "source": [
    "ratings_group=ratings_pairs.groupByKey()\n",
    "ratings_group.take(5)"
   ]
  },
  {
   "cell_type": "markdown",
   "metadata": {},
   "source": [
    "-groupByKey() groups the values with the same key"
   ]
  },
  {
   "cell_type": "markdown",
   "metadata": {},
   "source": [
    "#### Step 8: Calculate the average rating for all movies"
   ]
  },
  {
   "cell_type": "code",
   "execution_count": 5,
   "metadata": {
    "collapsed": true
   },
   "outputs": [],
   "source": [
    "ratings_average=ratings_group.mapValues(lambda x: sum(x)/len(x))"
   ]
  },
  {
   "cell_type": "markdown",
   "metadata": {},
   "source": [
    "#### Step 9: Take 10 elements and observe the output"
   ]
  },
  {
   "cell_type": "code",
   "execution_count": 6,
   "metadata": {
    "collapsed": false
   },
   "outputs": [
    {
     "data": {
      "text/plain": [
       "[('1869', 3),\n",
       " ('344', 2),\n",
       " ('346', 4),\n",
       " ('340', 3),\n",
       " ('342', 3),\n",
       " ('348', 3),\n",
       " ('2318', 2),\n",
       " ('2316', 3),\n",
       " ('2314', 3),\n",
       " ('2312', 3)]"
      ]
     },
     "execution_count": 6,
     "metadata": {},
     "output_type": "execute_result"
    }
   ],
   "source": [
    "ratings_average.take(10)"
   ]
  },
  {
   "cell_type": "markdown",
   "metadata": {},
   "source": [
    "#### Step 10: Now count the number of movies for a certain rating"
   ]
  },
  {
   "cell_type": "code",
   "execution_count": 8,
   "metadata": {
    "collapsed": true
   },
   "outputs": [],
   "source": [
    "ratings_newpairs=ratings_average.map(lambda fields: (fields[1],fields[0]))\n",
    "ratings_count=ratings_newpairs.countByKey()"
   ]
  },
  {
   "cell_type": "markdown",
   "metadata": {},
   "source": [
    "-countByKey() return the count of every key i.e. the number of times a particular key is present"
   ]
  },
  {
   "cell_type": "markdown",
   "metadata": {},
   "source": [
    "#### Step 11: Review the output"
   ]
  },
  {
   "cell_type": "code",
   "execution_count": 10,
   "metadata": {
    "collapsed": false
   },
   "outputs": [
    {
     "name": "stdout",
     "output_type": "stream",
     "text": [
      "defaultdict(<type 'int'>, {1: 2, 2: 243, 3: 2700, 4: 1007})\n"
     ]
    }
   ],
   "source": [
    "print ratings_count"
   ]
  },
  {
   "cell_type": "markdown",
   "metadata": {},
   "source": [
    "#### Step 12: Load the \"movies.txt\" file in memory"
   ]
  },
  {
   "cell_type": "code",
   "execution_count": 11,
   "metadata": {
    "collapsed": true
   },
   "outputs": [],
   "source": [
    "movies=sc.textFile(\"movies.txt\")"
   ]
  },
  {
   "cell_type": "markdown",
   "metadata": {},
   "source": [
    "#### Step 13: Split the RDD based upon '::' as delimeter "
   ]
  },
  {
   "cell_type": "code",
   "execution_count": 13,
   "metadata": {
    "collapsed": false
   },
   "outputs": [],
   "source": [
    "movies_split=movies.map(lambda line: line.split('::'))"
   ]
  },
  {
   "cell_type": "markdown",
   "metadata": {},
   "source": [
    "#### Step 14: Create a Pair RDD with movie ID being the key and movie name being its value and then review the output"
   ]
  },
  {
   "cell_type": "code",
   "execution_count": 15,
   "metadata": {
    "collapsed": false
   },
   "outputs": [
    {
     "data": {
      "text/plain": [
       "[(u'1', u'Toy Story (1995)'),\n",
       " (u'2', u'Jumanji (1995)'),\n",
       " (u'3', u'Grumpier Old Men (1995)'),\n",
       " (u'4', u'Waiting to Exhale (1995)'),\n",
       " (u'5', u'Father of the Bride Part II (1995)'),\n",
       " (u'6', u'Heat (1995)'),\n",
       " (u'7', u'Sabrina (1995)'),\n",
       " (u'8', u'Tom and Huck (1995)'),\n",
       " (u'9', u'Sudden Death (1995)'),\n",
       " (u'10', u'GoldenEye (1995)')]"
      ]
     },
     "execution_count": 15,
     "metadata": {},
     "output_type": "execute_result"
    }
   ],
   "source": [
    "movies_pairs=movies_split.map(lambda fields: (fields[0],fields[1]))\n",
    "movies_pairs.take(10)"
   ]
  },
  {
   "cell_type": "markdown",
   "metadata": {},
   "source": [
    "#### Step  15: Now join the movies-rdd in Step 13 and ratings-rdd in Step 8 to find the average rating of movies along with their names"
   ]
  },
  {
   "cell_type": "code",
   "execution_count": 16,
   "metadata": {
    "collapsed": true
   },
   "outputs": [],
   "source": [
    "movies_join=movies_pairs.join(ratings_average)"
   ]
  },
  {
   "cell_type": "markdown",
   "metadata": {},
   "source": [
    "#### Step 16: Take 10 elements and observe the output"
   ]
  },
  {
   "cell_type": "code",
   "execution_count": 17,
   "metadata": {
    "collapsed": false
   },
   "outputs": [
    {
     "data": {
      "text/plain": [
       "[(u'3922', (u'Bikini Beach (1964)', 2)),\n",
       " (u'1142', (u'Get Over It (1996)', 3)),\n",
       " (u'3926', (u'Voyage to the Bottom of the Sea (1961)', 3)),\n",
       " (u'2068', (u'Fanny and Alexander (1982)', 3)),\n",
       " (u'304', (u'Roommates (1995)', 3)),\n",
       " (u'1564', (u\"Roseanna's Grave (For Roseanna) (1997)\", 3)),\n",
       " (u'124', (u\"Star Maker, The (Uomo delle stelle, L') (1995)\", 4)),\n",
       " (u'164', (u'Devil in a Blue Dress (1995)', 4)),\n",
       " (u'1160', (u'Six of a Kind (1934)', 3)),\n",
       " (u'3571', (u'Time Code (2000)', 3))]"
      ]
     },
     "execution_count": 17,
     "metadata": {},
     "output_type": "execute_result"
    }
   ],
   "source": [
    "movies_join.take(10)"
   ]
  },
  {
   "cell_type": "markdown",
   "metadata": {},
   "source": [
    "#### Step 17: Save the RDD as text file and review the output"
   ]
  },
  {
   "cell_type": "code",
   "execution_count": 18,
   "metadata": {
    "collapsed": false
   },
   "outputs": [
    {
     "name": "stdout",
     "output_type": "stream",
     "text": [
      "(u'3922', (u'Bikini Beach (1964)', 2))\n",
      "(u'1142', (u'Get Over It (1996)', 3))\n",
      "(u'3926', (u'Voyage to the Bottom of the Sea (1961)', 3))\n",
      "(u'2068', (u'Fanny and Alexander (1982)', 3))\n",
      "(u'304', (u'Roommates (1995)', 3))\n",
      "(u'1564', (u\"Roseanna's Grave (For Roseanna) (1997)\", 3))\n",
      "(u'124', (u\"Star Maker, The (Uomo delle stelle, L') (1995)\", 4))\n",
      "(u'164', (u'Devil in a Blue Dress (1995)', 4))\n",
      "(u'1160', (u'Six of a Kind (1934)', 3))\n",
      "(u'3571', (u'Time Code (2000)', 3))\n",
      "cat: Unable to write to output stream.\n",
      "cat: Unable to write to output stream.\n",
      "cat: Unable to write to output stream.\n",
      "cat: Unable to write to output stream.\n"
     ]
    }
   ],
   "source": [
    "movies_join.saveAsTextFile(\"movies_join\")\n",
    "!hdfs dfs -cat movies_join/part* | head -10"
   ]
  }
 ],
 "metadata": {
  "kernelspec": {
   "display_name": "Python 2",
   "language": "python",
   "name": "python2"
  },
  "language_info": {
   "codemirror_mode": {
    "name": "ipython",
    "version": 2
   },
   "file_extension": ".py",
   "mimetype": "text/x-python",
   "name": "python",
   "nbconvert_exporter": "python",
   "pygments_lexer": "ipython2",
   "version": "2.7.8"
  }
 },
 "nbformat": 4,
 "nbformat_minor": 0
}
