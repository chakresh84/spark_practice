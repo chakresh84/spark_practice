{
 "cells": [
  {
   "cell_type": "markdown",
   "metadata": {},
   "source": [
    "#### Step1: Create the dataframe and Display the content of the dataframe. (from json file):"
   ]
  },
  {
   "cell_type": "code",
   "execution_count": 1,
   "metadata": {
    "collapsed": false
   },
   "outputs": [
    {
     "data": {
      "text/plain": [
       "<pyspark.sql.context.SQLContext at 0x7f9b447cabd0>"
      ]
     },
     "execution_count": 1,
     "metadata": {},
     "output_type": "execute_result"
    }
   ],
   "source": [
    "from pyspark.sql import *\n",
    "sqlContext = SQLContext(sc)\n",
    "sqlContext"
   ]
  },
  {
   "cell_type": "code",
   "execution_count": 3,
   "metadata": {
    "collapsed": false
   },
   "outputs": [
    {
     "name": "stdout",
     "output_type": "stream",
     "text": [
      "+--------------------+--------------------+----------+------+---+---------------+---------+---------------+----------+\n",
      "|                city|               email|first_name|gender| id|     ip_address|last_name|           race| timestamp|\n",
      "+--------------------+--------------------+----------+------+---+---------------+---------+---------------+----------+\n",
      "|               Miami|   wbell0@tumblr.com|     Wayne|  Male|  1| 77.152.229.131|     Bell|    Costa Rican|1463468947|\n",
      "|              Xiejia|   aallen1@state.gov|   Anthony|  Male|  2|  62.49.195.170|    Allen|       Comanche|1447538277|\n",
      "|            Illintsi|ehenderson2@thegu...|      Eric|  Male|  3| 136.129.71.231|Henderson|       Comanche|1476462811|\n",
      "|           Tugusirna|  jsmith3@spiegel.de|     Jimmy|  Male|  4|117.176.172.187|    Smith|Native Hawaiian|1445804900|\n",
      "|           Nasīrābād|dwheeler4@vkontak...|     Diana|Female|  5|119.222.120.140|  Wheeler|         Lumbee|1460377451|\n",
      "|             Pousada|      khall5@pbs.org|     Karen|Female|  6|   9.111.177.81|     Hall|     Polynesian|1450344798|\n",
      "|              Évreux| prodriguez6@wsj.com|    Philip|  Male|  7|  202.53.81.233|Rodriguez|      Malaysian|1459998561|\n",
      "|              Vihāri|    abryant7@com.com|    Ashley|Female|  8|163.245.127.162|   Bryant|         Lumbee|1445570397|\n",
      "|            Magnitka|    ngrant8@nasa.gov|     Norma|Female|  9| 43.133.191.129|    Grant|     Sri Lankan|1462939469|\n",
      "|               Keffi|    hlewis9@ucsd.edu|     Helen|Female| 10| 74.149.202.229|    Lewis|     Salvadoran|1474416280|\n",
      "|        Волочаевское| lmccoya@jiathis.com|     Larry|  Male| 11|   36.136.37.15|    Mccoy|     Venezuelan|1474672688|\n",
      "|             Madison|  ewoodb@youtube.com|     Emily|Female| 12|  7.239.252.142|     Wood|       Peruvian|1478199845|\n",
      "|             Cicheng|palvarezc@delicio...|   Patrick|  Male| 13|  184.86.19.219|  Alvarez|          Yuman|1443691208|\n",
      "|          Xiaomenjia| ebowmand@usnews.com|    Eugene|  Male| 14| 173.159.51.207|   Bowman|      Chickasaw|1452109688|\n",
      "|               Boaco|   pwrighte@furl.net|   Phyllis|Female| 15|159.165.133.224|   Wright|   Puerto Rican|1441154207|\n",
      "|             Iturama|      rrosef@cmu.edu|       Roy|  Male| 16|  52.205.107.86|     Rose|      Pakistani|1463401327|\n",
      "|             Tochigi|ahunterg@acquiret...|    Albert|  Male| 17| 21.237.126.164|   Hunter|    Costa Rican|1457692077|\n",
      "|Petite Rivière de...|ahowardh@guardian...|   Antonio|  Male| 18|111.107.201.180|   Howard|      Pakistani|1444392400|\n",
      "|         Zaliznychne|rstonei@macromedi...|    Robert|  Male| 19| 189.196.30.146|    Stone|         Ottawa|1458466303|\n",
      "|          Sukahening|dcrawfordj@netsca...|   Dorothy|Female| 20|  146.5.243.193| Crawford|      Menominee|1463590952|\n",
      "+--------------------+--------------------+----------+------+---+---------------+---------+---------------+----------+\n",
      "only showing top 20 rows\n",
      "\n"
     ]
    }
   ],
   "source": [
    "df = sqlContext.read.json(\"file:/home/cloudera/training_materials/data/userdetails.json\")\n",
    "df.show()"
   ]
  },
  {
   "cell_type": "markdown",
   "metadata": {},
   "source": [
    "#### Step 2: Print the schema in a  tree format."
   ]
  },
  {
   "cell_type": "code",
   "execution_count": 4,
   "metadata": {
    "collapsed": false
   },
   "outputs": [
    {
     "name": "stdout",
     "output_type": "stream",
     "text": [
      "root\n",
      " |-- city: string (nullable = true)\n",
      " |-- email: string (nullable = true)\n",
      " |-- first_name: string (nullable = true)\n",
      " |-- gender: string (nullable = true)\n",
      " |-- id: long (nullable = true)\n",
      " |-- ip_address: string (nullable = true)\n",
      " |-- last_name: string (nullable = true)\n",
      " |-- race: string (nullable = true)\n",
      " |-- timestamp: string (nullable = true)\n",
      "\n"
     ]
    }
   ],
   "source": [
    "df.printSchema()"
   ]
  },
  {
   "cell_type": "markdown",
   "metadata": {},
   "source": [
    "#### Step 3: Select only the first_name column."
   ]
  },
  {
   "cell_type": "code",
   "execution_count": 5,
   "metadata": {
    "collapsed": false
   },
   "outputs": [
    {
     "name": "stdout",
     "output_type": "stream",
     "text": [
      "+----------+\n",
      "|first_name|\n",
      "+----------+\n",
      "|     Wayne|\n",
      "|   Anthony|\n",
      "|      Eric|\n",
      "|     Jimmy|\n",
      "|     Diana|\n",
      "|     Karen|\n",
      "|    Philip|\n",
      "|    Ashley|\n",
      "|     Norma|\n",
      "|     Helen|\n",
      "|     Larry|\n",
      "|     Emily|\n",
      "|   Patrick|\n",
      "|    Eugene|\n",
      "|   Phyllis|\n",
      "|       Roy|\n",
      "|    Albert|\n",
      "|   Antonio|\n",
      "|    Robert|\n",
      "|   Dorothy|\n",
      "+----------+\n",
      "only showing top 20 rows\n",
      "\n"
     ]
    }
   ],
   "source": [
    "df.select(\"first_name\").show()"
   ]
  },
  {
   "cell_type": "markdown",
   "metadata": {},
   "source": [
    "#### Step 4: Select the  people whose id is greater than 10."
   ]
  },
  {
   "cell_type": "code",
   "execution_count": 6,
   "metadata": {
    "collapsed": false
   },
   "outputs": [
    {
     "name": "stdout",
     "output_type": "stream",
     "text": [
      "+--------------------+--------------------+----------+------+---+---------------+----------+--------------------+----------+\n",
      "|                city|               email|first_name|gender| id|     ip_address| last_name|                race| timestamp|\n",
      "+--------------------+--------------------+----------+------+---+---------------+----------+--------------------+----------+\n",
      "|        Волочаевское| lmccoya@jiathis.com|     Larry|  Male| 11|   36.136.37.15|     Mccoy|          Venezuelan|1474672688|\n",
      "|             Madison|  ewoodb@youtube.com|     Emily|Female| 12|  7.239.252.142|      Wood|            Peruvian|1478199845|\n",
      "|             Cicheng|palvarezc@delicio...|   Patrick|  Male| 13|  184.86.19.219|   Alvarez|               Yuman|1443691208|\n",
      "|          Xiaomenjia| ebowmand@usnews.com|    Eugene|  Male| 14| 173.159.51.207|    Bowman|           Chickasaw|1452109688|\n",
      "|               Boaco|   pwrighte@furl.net|   Phyllis|Female| 15|159.165.133.224|    Wright|        Puerto Rican|1441154207|\n",
      "|             Iturama|      rrosef@cmu.edu|       Roy|  Male| 16|  52.205.107.86|      Rose|           Pakistani|1463401327|\n",
      "|             Tochigi|ahunterg@acquiret...|    Albert|  Male| 17| 21.237.126.164|    Hunter|         Costa Rican|1457692077|\n",
      "|Petite Rivière de...|ahowardh@guardian...|   Antonio|  Male| 18|111.107.201.180|    Howard|           Pakistani|1444392400|\n",
      "|         Zaliznychne|rstonei@macromedi...|    Robert|  Male| 19| 189.196.30.146|     Stone|              Ottawa|1458466303|\n",
      "|          Sukahening|dcrawfordj@netsca...|   Dorothy|Female| 20|  146.5.243.193|  Crawford|           Menominee|1463590952|\n",
      "|            Majagual|   rmedinak@sohu.com|      Ryan|  Male| 21|   3.173.50.127|    Medina|Native Hawaiian a...|1460218114|\n",
      "|             Coolock|   kleel@spotify.com|  Kathleen|Female| 22|233.226.131.220|       Lee|          Venezuelan|1464451811|\n",
      "|             Rentian|    cbanksm@noaa.gov|    Cheryl|Female| 23|  50.110.19.199|     Banks|             Chilean|1459308539|\n",
      "|           Ush-Tyube|sblackn@mayoclini...|     Sarah|Female| 24| 42.255.213.157|     Black|American Indian a...|1444690946|\n",
      "|            Kréstena| pcarrollo@ocn.ne.jp|    Philip|  Male| 25|  137.96.107.85|   Carroll|             Laotian|1445796577|\n",
      "|             Jingmen|rwilliamsp@zdnet.com|      Ruth|Female| 26| 213.223.207.40|  Williams|            Colville|1476681413|\n",
      "|            Tagnanan|  lchavezq@opera.com|    Louise|Female| 27| 132.53.227.238|    Chavez|            Chippewa|1458453221|\n",
      "|             Kłoczew|smontgomeryr@fc2.com|    Sandra|Female| 28| 206.174.43.114|Montgomery|               Cuban|1472327746|\n",
      "|     Ramon Magsaysay|dmillers@theatlan...|     Doris|Female| 29|  93.134.101.63|    Miller|               Kiowa|1462628012|\n",
      "|               Sebba|hnicholst@science...|    Howard|  Male| 30| 33.119.131.132|   Nichols|          Polynesian|1465177178|\n",
      "+--------------------+--------------------+----------+------+---+---------------+----------+--------------------+----------+\n",
      "only showing top 20 rows\n",
      "\n"
     ]
    }
   ],
   "source": [
    " df.filter(df['id'] > 10).show()"
   ]
  },
  {
   "cell_type": "markdown",
   "metadata": {},
   "source": [
    "#### Step 5: Count the people by gender."
   ]
  },
  {
   "cell_type": "code",
   "execution_count": 7,
   "metadata": {
    "collapsed": false
   },
   "outputs": [
    {
     "name": "stdout",
     "output_type": "stream",
     "text": [
      "+------+-----+\n",
      "|gender|count|\n",
      "+------+-----+\n",
      "|Female|  507|\n",
      "|  Male|  493|\n",
      "+------+-----+\n",
      "\n"
     ]
    }
   ],
   "source": [
    " df.groupBy(\"gender\").count().show()"
   ]
  }
 ],
 "metadata": {
  "kernelspec": {
   "display_name": "Python 2",
   "language": "python",
   "name": "python2"
  },
  "language_info": {
   "codemirror_mode": {
    "name": "ipython",
    "version": 2
   },
   "file_extension": ".py",
   "mimetype": "text/x-python",
   "name": "python",
   "nbconvert_exporter": "python",
   "pygments_lexer": "ipython2",
   "version": "2.7.8"
  }
 },
 "nbformat": 4,
 "nbformat_minor": 0
}
