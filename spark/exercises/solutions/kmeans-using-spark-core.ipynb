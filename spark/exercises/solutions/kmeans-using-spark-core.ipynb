{
 "cells": [
  {
   "cell_type": "markdown",
   "metadata": {},
   "source": [
    "#### Step 1: Do the following variable declarations:"
   ]
  },
  {
   "cell_type": "code",
   "execution_count": 1,
   "metadata": {
    "collapsed": true
   },
   "outputs": [],
   "source": [
    "# Create a variable to return to the index of the closest point from a given set of points\n",
    "bestIndex=0\n",
    "# Create a variable to find the number of clusters to find\n",
    "K=5\n",
    "# Create a variable to find the threshold distance between iterations at which we decide we are done\n",
    "convergeDist = .1\n",
    "# Create a varialbe to assign temporary distance to positive infinity\n",
    "tempDist = float(\"+inf\")"
   ]
  },
  {
   "cell_type": "markdown",
   "metadata": {},
   "source": [
    "#### Step 2: Create a function to add two coordinates"
   ]
  },
  {
   "cell_type": "code",
   "execution_count": 2,
   "metadata": {
    "collapsed": true
   },
   "outputs": [],
   "source": [
    "def sumOfPoints(point1,point2):\n",
    "    return point1[0]+point2[0],point1[1]+point2[1]"
   ]
  },
  {
   "cell_type": "markdown",
   "metadata": {},
   "source": [
    "#### Step 3: Create a function to find the squared distance between two points"
   ]
  },
  {
   "cell_type": "code",
   "execution_count": 3,
   "metadata": {
    "collapsed": true
   },
   "outputs": [],
   "source": [
    "def squaredDistanceBetweenPoints(point1,point2):\n",
    "    return (point1[0]-point2[0]) **2 + (point1[1]-point2[1]) ** 2"
   ]
  },
  {
   "cell_type": "markdown",
   "metadata": {},
   "source": [
    "#### Step 4: Create a function to find the index of the point from a given set set of points which is closest to a given point"
   ]
  },
  {
   "cell_type": "code",
   "execution_count": 4,
   "metadata": {
    "collapsed": true
   },
   "outputs": [],
   "source": [
    "def closestPoint(point,points):\n",
    "    bestIndex=0\n",
    "    closestDistanceBetweenPoints = float(\"+inf\")\n",
    "    for i in xrange(0,len(points)):\n",
    "        distanceBetweenPoints=squaredDistanceBetweenPoints(point,points[i])\n",
    "        if distanceBetweenPoints < closestDistanceBetweenPoints:\n",
    "            closestDistanceBetweenPoints=distanceBetweenPoints\n",
    "            bestIndex=i\n",
    "    return bestIndex"
   ]
  },
  {
   "cell_type": "markdown",
   "metadata": {},
   "source": [
    "#### Step 5:  RDD to map all latitudes and longitudes"
   ]
  },
  {
   "cell_type": "code",
   "execution_count": 9,
   "metadata": {
    "collapsed": true
   },
   "outputs": [],
   "source": [
    "points=sc.textFile(\"file:/home/cloudera/training_materials/data/userinfo.csv\")\\\n",
    "       .map(lambda line:line.split(\",\"))\\\n",
    "       .map(lambda fields: (float(fields[1]),float(fields[2])))\\\n",
    "       .persist()"
   ]
  },
  {
   "cell_type": "markdown",
   "metadata": {},
   "source": [
    "#### Step 6: Choose random points taken to decide the number of clusters"
   ]
  },
  {
   "cell_type": "code",
   "execution_count": 10,
   "metadata": {
    "collapsed": false
   },
   "outputs": [
    {
     "name": "stdout",
     "output_type": "stream",
     "text": [
      "Starting points: [(14.6042, 120.9822), (11.2741, 106.35879), (6.15154, -75.61658), (29.6175, 121.405), (-33.8678, 151.2073)]\n"
     ]
    }
   ],
   "source": [
    "kPoints = points.takeSample(False, K, 34)\n",
    "print \"Starting points:\", kPoints"
   ]
  },
  {
   "cell_type": "markdown",
   "metadata": {},
   "source": [
    "#### Step 7: Loop over the elements to find the cluster centres "
   ]
  },
  {
   "cell_type": "code",
   "execution_count": 11,
   "metadata": {
    "collapsed": false
   },
   "outputs": [
    {
     "name": "stdout",
     "output_type": "stream",
     "text": [
      "Distance between iterations: 4164.14839164\n",
      "Distance between iterations: 1009.68366739\n",
      "Distance between iterations: 695.247151757\n",
      "Distance between iterations: 15.4464697554\n",
      "Distance between iterations: 0.0\n"
     ]
    }
   ],
   "source": [
    "# Loop till temporary distance is greater than convergent distance\n",
    "while tempDist > convergeDist:\n",
    "    # Index of the closest point from a given point\n",
    "    closest = points.map(lambda p : (closestPoint(p, kPoints), (p, 1)))\n",
    "    # Add the coordinates and the number of occurences by Key\n",
    "    pointStats = closest.reduceByKey(lambda (point1,n1),(point2,n2):  (sumOfPoints(point1,point2),n1+n2) )\n",
    "    # New point by calculating the average of each closest point\n",
    "    newPoints = pointStats.map(lambda (i,(point,n)): (i,[point[0]/n,point[1]/n])).collect()\n",
    "    # Total of the distanceStep  between the current points and new points\n",
    "    tempDist=0\n",
    "    for  (i,point) in newPoints: tempDist += squaredDistanceBetweenPoints(kPoints[i],point)\n",
    "    print \"Distance between iterations:\",tempDist\n",
    "    # New points to the kPoints array for the next iteration\n",
    "    for (i, point) in newPoints: kPoints[i] = point"
   ]
  },
  {
   "cell_type": "markdown",
   "metadata": {},
   "source": [
    "#### Step 8: Print all the center points"
   ]
  },
  {
   "cell_type": "code",
   "execution_count": 12,
   "metadata": {
    "collapsed": false
   },
   "outputs": [
    {
     "name": "stdout",
     "output_type": "stream",
     "text": [
      "Final center points: [[-0.7504521264367817, 114.1482109195403], [39.57328149870801, 18.896898501292004], [3.7804638613861363, -73.56115465346534], [32.5512856223176, 110.29270836909878], [-35.442235, 163.52865]]\n"
     ]
    }
   ],
   "source": [
    "print \"Final center points: \" + str(kPoints)\n"
   ]
  }
 ],
 "metadata": {
  "kernelspec": {
   "display_name": "Python 2",
   "language": "python",
   "name": "python2"
  },
  "language_info": {
   "codemirror_mode": {
    "name": "ipython",
    "version": 2
   },
   "file_extension": ".py",
   "mimetype": "text/x-python",
   "name": "python",
   "nbconvert_exporter": "python",
   "pygments_lexer": "ipython2",
   "version": "2.7.8"
  }
 },
 "nbformat": 4,
 "nbformat_minor": 0
}
