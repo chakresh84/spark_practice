{
 "cells": [
  {
   "cell_type": "code",
   "execution_count": null,
   "metadata": {
    "collapsed": true
   },
   "outputs": [],
   "source": [
    "## Create table data"
   ]
  },
  {
   "cell_type": "code",
   "execution_count": 3,
   "metadata": {
    "collapsed": false
   },
   "outputs": [
    {
     "data": {
      "text/plain": [
       "DataFrame[result: string]"
      ]
     },
     "execution_count": 3,
     "metadata": {},
     "output_type": "execute_result"
    }
   ],
   "source": [
    "sqlContext.sql(\"CREATE TABLE data_new(id string,name string)ROW FORMAT DELIMITED FIELDS TERMINATED BY ','\")"
   ]
  },
  {
   "cell_type": "code",
   "execution_count": 4,
   "metadata": {
    "collapsed": false
   },
   "outputs": [
    {
     "data": {
      "text/plain": [
       "[Row(tableName=u'data', isTemporary=False),\n",
       " Row(tableName=u'data1', isTemporary=False),\n",
       " Row(tableName=u'data2', isTemporary=False),\n",
       " Row(tableName=u'data_new', isTemporary=False)]"
      ]
     },
     "execution_count": 4,
     "metadata": {},
     "output_type": "execute_result"
    }
   ],
   "source": [
    "sqlContext.sql(\"show tables\").collect()"
   ]
  },
  {
   "cell_type": "code",
   "execution_count": 7,
   "metadata": {
    "collapsed": false
   },
   "outputs": [
    {
     "data": {
      "text/plain": [
       "DataFrame[result: string]"
      ]
     },
     "execution_count": 7,
     "metadata": {},
     "output_type": "execute_result"
    }
   ],
   "source": [
    "sqlContext.sql(\"load data local inpath '/home/cloudera/db_pune/training_materials/data/knowlist.txt' into table data_new\")"
   ]
  },
  {
   "cell_type": "code",
   "execution_count": 9,
   "metadata": {
    "collapsed": false
   },
   "outputs": [
    {
     "data": {
      "text/plain": [
       "[Row(id=u'ARTICLE-00087:Ronin Novelty Note 1 - Back up files', name=None),\n",
       " Row(id=u'ARTICLE-00293:Ronin S2 - Battery Life', name=None),\n",
       " Row(id=u'ARTICLE-00199:Titanic 2000 - Change the phone ringtone and notification sound', name=None),\n",
       " Row(id=u'ARTICLE-00211:MeeToo 5.1 - Change the phone ringtone and notification sound', name=None),\n",
       " Row(id=u'ARTICLE-00037:iFruit 2 - Change the phone ringtone and notification sound', name=None),\n",
       " Row(id=u'ARTICLE-00245:Sorrento F31L - Battery Life', name=None),\n",
       " Row(id=u'ARTICLE-00058:MeeToo 1.0 - reboot', name=None),\n",
       " Row(id=u'ARTICLE-00067:iFruit 4 - Change the phone ringtone and notification sound', name=None),\n",
       " Row(id=u'ARTICLE-00116:iFruit 3A - Transfer Contacts', name=None),\n",
       " Row(id=u'ARTICLE-00164:Titanic 4000 - Transfer Contacts', name=None),\n",
       " Row(id=u'ARTICLE-00039:iFruit 2 - Back up files', name=None),\n",
       " Row(id=u'ARTICLE-00109:Ronin Novelty Note 4 - Change the phone ringtone and notification sound', name=None),\n",
       " Row(id=u'ARTICLE-00273:Ronin S4 - Back up files', name=None),\n",
       " Row(id=u'ARTICLE-00051:Titanic 1000 - Back up files', name=None),\n",
       " Row(id=u'ARTICLE-00156:Sorrento F30L - overheat', name=None),\n",
       " Row(id=u'ARTICLE-00049:Titanic 1000 - Change the phone ringtone and notification sound', name=None),\n",
       " Row(id=u'ARTICLE-00038:iFruit 2 - Transfer Contacts', name=None),\n",
       " Row(id=u'ARTICLE-00069:iFruit 4 - Back up files', name=None),\n",
       " Row(id=u'ARTICLE-00099:Ronin Novelty Note 3 - Back up files', name=None),\n",
       " Row(id=u'ARTICLE-00230:Sorrento F33L - Transfer Contacts', name=None),\n",
       " Row(id=u'ARTICLE-00050:Titanic 1000 - Transfer Contacts', name=None),\n",
       " Row(id=u'ARTICLE-00206:MeeToo 5.0 - Transfer Contacts', name=None),\n",
       " Row(id=u'ARTICLE-00300:iFruit 5A - overheats', name=None),\n",
       " Row(id=u'ARTICLE-00290:Ronin S2 - Transfer Contacts', name=None),\n",
       " Row(id=u'ARTICLE-00248:Sorrento F40L - Transfer Contacts', name=None),\n",
       " Row(id=u'ARTICLE-00023:MeeToo 3.1 - Battery Life', name=None),\n",
       " Row(id=u'ARTICLE-00019:MeeToo 3.1 - Change the phone ringtone and notification sound', name=None),\n",
       " Row(id=u'ARTICLE-00284:Ronin S3 - Transfer Contacts', name=None),\n",
       " Row(id=u'ARTICLE-00083:Titanic 2200 - Battery Life', name=None),\n",
       " Row(id=u'ARTICLE-00134:Sorrento F20L - Transfer Contacts', name=None),\n",
       " Row(id=u'ARTICLE-00208:MeeToo 5.0 - reboots', name=None),\n",
       " Row(id=u'ARTICLE-00002:Sorrento F00L - Transfer Contacts', name=None),\n",
       " Row(id=u'ARTICLE-00133:Sorrento F20L - Change the phone ringtone and notification sound', name=None),\n",
       " Row(id=u'ARTICLE-00106:Ronin Novelty Note 2 - rebooting', name=None),\n",
       " Row(id=u'ARTICLE-00074:Sorrento F23L - Transfer Contacts', name=None),\n",
       " Row(id=u'ARTICLE-00095:Titanic 2500 - Battery Life', name=None),\n",
       " Row(id=u'ARTICLE-00091:Titanic 2500 - Change the phone ringtone and notification sound', name=None),\n",
       " Row(id=u'ARTICLE-00261:Sorrento F11L - Back up files', name=None),\n",
       " Row(id=u'ARTICLE-00042:iFruit 2 - overheating', name=None),\n",
       " Row(id=u'ARTICLE-00180:Titanic DeckChairs - overheating', name=None),\n",
       " Row(id=u'ARTICLE-00215:MeeToo 5.1 - Battery Life', name=None),\n",
       " Row(id=u'ARTICLE-00165:Titanic 4000 - Back up files', name=None),\n",
       " Row(id=u'ARTICLE-00253:Sorrento F01L - Change the phone ringtone and notification sound', name=None),\n",
       " Row(id=u'ARTICLE-00299:iFruit 5A - Battery Life', name=None),\n",
       " Row(id=u'ARTICLE-00285:Ronin S3 - Back up files', name=None),\n",
       " Row(id=u'ARTICLE-00219:Titanic 3000 - Back up files', name=None),\n",
       " Row(id=u'ARTICLE-00295:iFruit 5A - Change the phone ringtone and notification sound', name=None),\n",
       " Row(id=u'ARTICLE-00210:MeeToo 5.0 - overheating', name=None),\n",
       " Row(id=u'ARTICLE-00257:Sorrento F01L - Battery Life', name=None),\n",
       " Row(id=u'ARTICLE-00003:Sorrento F00L - Back up files', name=None),\n",
       " Row(id=u'ARTICLE-00142:Sorrento F32L - reboot', name=None),\n",
       " Row(id=u'ARTICLE-00228:Titanic 1100 - overheating', name=None),\n",
       " Row(id=u'ARTICLE-00250:Sorrento F40L - reboot', name=None),\n",
       " Row(id=u'ARTICLE-00123:Titanic 2300 - Back up files', name=None),\n",
       " Row(id=u'ARTICLE-00100:Ronin Novelty Note 3 - rebooting', name=None),\n",
       " Row(id=u'ARTICLE-00080:Titanic 2200 - Transfer Contacts', name=None),\n",
       " Row(id=u'ARTICLE-00151:Sorrento F30L - Change the phone ringtone and notification sound', name=None),\n",
       " Row(id=u'ARTICLE-00160:Sorrento F10L - reboots', name=None),\n",
       " Row(id=u'ARTICLE-00061:Sorrento F21L - Change the phone ringtone and notification sound', name=None),\n",
       " Row(id=u'ARTICLE-00045:iFruit 5 - Back up files', name=None),\n",
       " Row(id=u'ARTICLE-00252:Sorrento F40L - overheat', name=None),\n",
       " Row(id=u'ARTICLE-00052:Titanic 1000 - reboot', name=None),\n",
       " Row(id=u'ARTICLE-00168:Titanic 4000 - overheats', name=None),\n",
       " Row(id=u'ARTICLE-00196:MeeToo 2.0 - rebooting', name=None),\n",
       " Row(id=u'ARTICLE-00040:iFruit 2 - reboot', name=None),\n",
       " Row(id=u'ARTICLE-00154:Sorrento F30L - reboot', name=None),\n",
       " Row(id=u'ARTICLE-00172:Sorrento F41L - reboots', name=None),\n",
       " Row(id=u'ARTICLE-00185:MeeToo 4.1 - Battery Life', name=None),\n",
       " Row(id=u'ARTICLE-00167:Titanic 4000 - Battery Life', name=None),\n",
       " Row(id=u'ARTICLE-00031:iFruit 3 - Change the phone ringtone and notification sound', name=None),\n",
       " Row(id=u'ARTICLE-00056:MeeToo 1.0 - Transfer Contacts', name=None),\n",
       " Row(id=u'ARTICLE-00222:Titanic 3000 - overheat', name=None),\n",
       " Row(id=u'ARTICLE-00006:Sorrento F00L - overheats', name=None),\n",
       " Row(id=u'ARTICLE-00242:Sorrento F31L - Transfer Contacts', name=None),\n",
       " Row(id=u'ARTICLE-00191:MeeToo 4.0 - Battery Life', name=None),\n",
       " Row(id=u'ARTICLE-00125:Titanic 2300 - Battery Life', name=None),\n",
       " Row(id=u'ARTICLE-00158:Sorrento F10L - Transfer Contacts', name=None),\n",
       " Row(id=u'ARTICLE-00063:Sorrento F21L - Back up files', name=None),\n",
       " Row(id=u'ARTICLE-00140:Sorrento F32L - Transfer Contacts', name=None),\n",
       " Row(id=u'ARTICLE-00132:Sorrento F24L - overheating', name=None),\n",
       " Row(id=u'ARTICLE-00117:iFruit 3A - Back up files', name=None),\n",
       " Row(id=u'ARTICLE-00269:Titanic 2400 - Battery Life', name=None),\n",
       " Row(id=u'ARTICLE-00112:Ronin Novelty Note 4 - reboot', name=None),\n",
       " Row(id=u'ARTICLE-00103:Ronin Novelty Note 2 - Change the phone ringtone and notification sound', name=None),\n",
       " Row(id=u'ARTICLE-00015:MeeToo 3.0 - Back up files', name=None),\n",
       " Row(id=u'ARTICLE-00115:iFruit 3A - Change the phone ringtone and notification sound', name=None),\n",
       " Row(id=u'ARTICLE-00004:Sorrento F00L - reboot', name=None),\n",
       " Row(id=u'ARTICLE-00098:Ronin Novelty Note 3 - Transfer Contacts', name=None),\n",
       " Row(id=u'ARTICLE-00025:iFruit 1 - Change the phone ringtone and notification sound', name=None),\n",
       " Row(id=u'ARTICLE-00145:Sorrento F22L - Change the phone ringtone and notification sound', name=None),\n",
       " Row(id=u'ARTICLE-00207:MeeToo 5.0 - Back up files', name=None),\n",
       " Row(id=u'ARTICLE-00034:iFruit 3 - rebooting', name=None),\n",
       " Row(id=u'ARTICLE-00184:MeeToo 4.1 - rebooting', name=None),\n",
       " Row(id=u'ARTICLE-00097:Ronin Novelty Note 3 - Change the phone ringtone and notification sound', name=None),\n",
       " Row(id=u'ARTICLE-00062:Sorrento F21L - Transfer Contacts', name=None),\n",
       " Row(id=u'ARTICLE-00076:Sorrento F23L - rebooting', name=None),\n",
       " Row(id=u'ARTICLE-00200:Titanic 2000 - Transfer Contacts', name=None),\n",
       " Row(id=u'ARTICLE-00276:Ronin S4 - overheat', name=None),\n",
       " Row(id=u'ARTICLE-00292:Ronin S2 - rebooting', name=None),\n",
       " Row(id=u'ARTICLE-00011:Titanic 2100 - Battery Life', name=None),\n",
       " Row(id=u'ARTICLE-00119:iFruit 3A - Battery Life', name=None),\n",
       " Row(id=u'ARTICLE-00024:MeeToo 3.1 - overheating', name=None),\n",
       " Row(id=u'ARTICLE-00262:Sorrento F11L - rebooting', name=None),\n",
       " Row(id=u'ARTICLE-00036:iFruit 3 - overheat', name=None),\n",
       " Row(id=u'ARTICLE-00205:MeeToo 5.0 - Change the phone ringtone and notification sound', name=None),\n",
       " Row(id=u'ARTICLE-00152:Sorrento F30L - Transfer Contacts', name=None),\n",
       " Row(id=u'ARTICLE-00181:MeeToo 4.1 - Change the phone ringtone and notification sound', name=None),\n",
       " Row(id=u'ARTICLE-00229:Sorrento F33L - Change the phone ringtone and notification sound', name=None),\n",
       " Row(id=u'ARTICLE-00090:Ronin Novelty Note 1 - overheat', name=None),\n",
       " Row(id=u'ARTICLE-00012:Titanic 2100 - overheat', name=None),\n",
       " Row(id=u'ARTICLE-00195:MeeToo 2.0 - Back up files', name=None),\n",
       " Row(id=u'ARTICLE-00001:Sorrento F00L - Change the phone ringtone and notification sound', name=None),\n",
       " Row(id=u'ARTICLE-00077:Sorrento F23L - Battery Life', name=None),\n",
       " Row(id=u'ARTICLE-00064:Sorrento F21L - reboots', name=None),\n",
       " Row(id=u'ARTICLE-00178:Titanic DeckChairs - rebooting', name=None),\n",
       " Row(id=u'ARTICLE-00202:Titanic 2000 - reboots', name=None),\n",
       " Row(id=u'ARTICLE-00008:Titanic 2100 - Transfer Contacts', name=None),\n",
       " Row(id=u'ARTICLE-00048:iFruit 5 - overheating', name=None),\n",
       " Row(id=u'ARTICLE-00266:Titanic 2400 - Transfer Contacts', name=None),\n",
       " Row(id=u'ARTICLE-00235:iFruit 4A - Change the phone ringtone and notification sound', name=None),\n",
       " Row(id=u'ARTICLE-00280:Ronin S1 - rebooting', name=None),\n",
       " Row(id=u'ARTICLE-00118:iFruit 3A - reboots', name=None),\n",
       " Row(id=u'ARTICLE-00005:Sorrento F00L - Battery Life', name=None),\n",
       " Row(id=u'ARTICLE-00082:Titanic 2200 - rebooting', name=None),\n",
       " Row(id=u'ARTICLE-00093:Titanic 2500 - Back up files', name=None),\n",
       " Row(id=u'ARTICLE-00298:iFruit 5A - reboot', name=None),\n",
       " Row(id=u'ARTICLE-00274:Ronin S4 - reboots', name=None),\n",
       " Row(id=u'ARTICLE-00283:Ronin S3 - Change the phone ringtone and notification sound', name=None),\n",
       " Row(id=u'ARTICLE-00220:Titanic 3000 - reboots', name=None),\n",
       " Row(id=u'ARTICLE-00108:Ronin Novelty Note 2 - overheats', name=None),\n",
       " Row(id=u'ARTICLE-00221:Titanic 3000 - Battery Life', name=None),\n",
       " Row(id=u'ARTICLE-00122:Titanic 2300 - Transfer Contacts', name=None),\n",
       " Row(id=u'ARTICLE-00009:Titanic 2100 - Back up files', name=None),\n",
       " Row(id=u'ARTICLE-00055:MeeToo 1.0 - Change the phone ringtone and notification sound', name=None),\n",
       " Row(id=u'ARTICLE-00212:MeeToo 5.1 - Transfer Contacts', name=None),\n",
       " Row(id=u'ARTICLE-00256:Sorrento F01L - reboots', name=None),\n",
       " Row(id=u'ARTICLE-00054:Titanic 1000 - overheating', name=None),\n",
       " Row(id=u'ARTICLE-00035:iFruit 3 - Battery Life', name=None),\n",
       " Row(id=u'ARTICLE-00201:Titanic 2000 - Back up files', name=None),\n",
       " Row(id=u'ARTICLE-00032:iFruit 3 - Transfer Contacts', name=None),\n",
       " Row(id=u'ARTICLE-00084:Titanic 2200 - overheating', name=None),\n",
       " Row(id=u'ARTICLE-00161:Sorrento F10L - Battery Life', name=None),\n",
       " Row(id=u'ARTICLE-00288:Ronin S3 - overheating', name=None),\n",
       " Row(id=u'ARTICLE-00135:Sorrento F20L - Back up files', name=None),\n",
       " Row(id=u'ARTICLE-00010:Titanic 2100 - rebooting', name=None),\n",
       " Row(id=u'ARTICLE-00078:Sorrento F23L - overheating', name=None),\n",
       " Row(id=u'ARTICLE-00149:Sorrento F22L - Battery Life', name=None),\n",
       " Row(id=u'ARTICLE-00159:Sorrento F10L - Back up files', name=None),\n",
       " Row(id=u'ARTICLE-00144:Sorrento F32L - overheat', name=None),\n",
       " Row(id=u'ARTICLE-00137:Sorrento F20L - Battery Life', name=None),\n",
       " Row(id=u'ARTICLE-00029:iFruit 1 - Battery Life', name=None),\n",
       " Row(id=u'ARTICLE-00126:Titanic 2300 - overheats', name=None),\n",
       " Row(id=u'ARTICLE-00013:MeeToo 3.0 - Change the phone ringtone and notification sound', name=None),\n",
       " Row(id=u'ARTICLE-00065:Sorrento F21L - Battery Life', name=None),\n",
       " Row(id=u'ARTICLE-00227:Titanic 1100 - Battery Life', name=None),\n",
       " Row(id=u'ARTICLE-00255:Sorrento F01L - Back up files', name=None),\n",
       " Row(id=u'ARTICLE-00236:iFruit 4A - Transfer Contacts', name=None),\n",
       " Row(id=u'ARTICLE-00079:Titanic 2200 - Change the phone ringtone and notification sound', name=None),\n",
       " Row(id=u'ARTICLE-00223:Titanic 1100 - Change the phone ringtone and notification sound', name=None),\n",
       " Row(id=u'ARTICLE-00231:Sorrento F33L - Back up files', name=None),\n",
       " Row(id=u'ARTICLE-00092:Titanic 2500 - Transfer Contacts', name=None),\n",
       " Row(id=u'ARTICLE-00213:MeeToo 5.1 - Back up files', name=None),\n",
       " Row(id=u'ARTICLE-00203:Titanic 2000 - Battery Life', name=None),\n",
       " Row(id=u'ARTICLE-00150:Sorrento F22L - overheating', name=None),\n",
       " Row(id=u'ARTICLE-00089:Ronin Novelty Note 1 - Battery Life', name=None),\n",
       " Row(id=u'ARTICLE-00286:Ronin S3 - reboots', name=None),\n",
       " Row(id=u'ARTICLE-00053:Titanic 1000 - Battery Life', name=None),\n",
       " Row(id=u'ARTICLE-00287:Ronin S3 - Battery Life', name=None),\n",
       " Row(id=u'ARTICLE-00096:Titanic 2500 - overheats', name=None),\n",
       " Row(id=u'ARTICLE-00124:Titanic 2300 - reboots', name=None),\n",
       " Row(id=u'ARTICLE-00232:Sorrento F33L - reboot', name=None),\n",
       " Row(id=u'ARTICLE-00153:Sorrento F30L - Back up files', name=None),\n",
       " Row(id=u'ARTICLE-00247:Sorrento F40L - Change the phone ringtone and notification sound', name=None),\n",
       " Row(id=u'ARTICLE-00234:Sorrento F33L - overheating', name=None),\n",
       " Row(id=u'ARTICLE-00104:Ronin Novelty Note 2 - Transfer Contacts', name=None),\n",
       " Row(id=u'ARTICLE-00272:Ronin S4 - Transfer Contacts', name=None),\n",
       " Row(id=u'ARTICLE-00157:Sorrento F10L - Change the phone ringtone and notification sound', name=None),\n",
       " Row(id=u'ARTICLE-00021:MeeToo 3.1 - Back up files', name=None),\n",
       " Row(id=u'ARTICLE-00030:iFruit 1 - overheat', name=None),\n",
       " Row(id=u'ARTICLE-00240:iFruit 4A - overheat', name=None),\n",
       " Row(id=u'ARTICLE-00194:MeeToo 2.0 - Transfer Contacts', name=None),\n",
       " Row(id=u'ARTICLE-00263:Sorrento F11L - Battery Life', name=None),\n",
       " Row(id=u'ARTICLE-00027:iFruit 1 - Back up files', name=None),\n",
       " Row(id=u'ARTICLE-00282:Ronin S1 - overheating', name=None),\n",
       " Row(id=u'ARTICLE-00186:MeeToo 4.1 - overheat', name=None),\n",
       " Row(id=u'ARTICLE-00105:Ronin Novelty Note 2 - Back up files', name=None),\n",
       " Row(id=u'ARTICLE-00070:iFruit 4 - reboots', name=None),\n",
       " Row(id=u'ARTICLE-00148:Sorrento F22L - reboot', name=None),\n",
       " Row(id=u'ARTICLE-00217:Titanic 3000 - Change the phone ringtone and notification sound', name=None),\n",
       " Row(id=u'ARTICLE-00017:MeeToo 3.0 - Battery Life', name=None),\n",
       " Row(id=u'ARTICLE-00268:Titanic 2400 - rebooting', name=None),\n",
       " Row(id=u'ARTICLE-00046:iFruit 5 - reboot', name=None),\n",
       " Row(id=u'ARTICLE-00239:iFruit 4A - Battery Life', name=None),\n",
       " Row(id=u'ARTICLE-00258:Sorrento F01L - overheats', name=None),\n",
       " Row(id=u'ARTICLE-00275:Ronin S4 - Battery Life', name=None),\n",
       " Row(id=u'ARTICLE-00176:Titanic DeckChairs - Transfer Contacts', name=None),\n",
       " Row(id=u'ARTICLE-00289:Ronin S2 - Change the phone ringtone and notification sound', name=None),\n",
       " Row(id=u'ARTICLE-00175:Titanic DeckChairs - Change the phone ringtone and notification sound', name=None),\n",
       " Row(id=u'ARTICLE-00026:iFruit 1 - Transfer Contacts', name=None),\n",
       " Row(id=u'ARTICLE-00264:Sorrento F11L - overheats', name=None),\n",
       " Row(id=u'ARTICLE-00169:Sorrento F41L - Change the phone ringtone and notification sound', name=None),\n",
       " Row(id=u'ARTICLE-00068:iFruit 4 - Transfer Contacts', name=None),\n",
       " Row(id=u'ARTICLE-00088:Ronin Novelty Note 1 - reboots', name=None),\n",
       " Row(id=u'ARTICLE-00270:Titanic 2400 - overheating', name=None),\n",
       " Row(id=u'ARTICLE-00243:Sorrento F31L - Back up files', name=None),\n",
       " Row(id=u'ARTICLE-00166:Titanic 4000 - reboots', name=None),\n",
       " Row(id=u'ARTICLE-00163:Titanic 4000 - Change the phone ringtone and notification sound', name=None),\n",
       " Row(id=u'ARTICLE-00216:MeeToo 5.1 - overheat', name=None),\n",
       " Row(id=u'ARTICLE-00260:Sorrento F11L - Transfer Contacts', name=None),\n",
       " Row(id=u'ARTICLE-00085:Ronin Novelty Note 1 - Change the phone ringtone and notification sound', name=None),\n",
       " Row(id=u'ARTICLE-00146:Sorrento F22L - Transfer Contacts', name=None),\n",
       " Row(id=u'ARTICLE-00204:Titanic 2000 - overheating', name=None),\n",
       " Row(id=u'ARTICLE-00182:MeeToo 4.1 - Transfer Contacts', name=None),\n",
       " Row(id=u'ARTICLE-00136:Sorrento F20L - rebooting', name=None),\n",
       " Row(id=u'ARTICLE-00271:Ronin S4 - Change the phone ringtone and notification sound', name=None),\n",
       " Row(id=u'ARTICLE-00225:Titanic 1100 - Back up files', name=None),\n",
       " Row(id=u'ARTICLE-00226:Titanic 1100 - reboot', name=None),\n",
       " Row(id=u'ARTICLE-00016:MeeToo 3.0 - rebooting', name=None),\n",
       " Row(id=u'ARTICLE-00047:iFruit 5 - Battery Life', name=None),\n",
       " Row(id=u'ARTICLE-00131:Sorrento F24L - Battery Life', name=None),\n",
       " Row(id=u'ARTICLE-00171:Sorrento F41L - Back up files', name=None),\n",
       " Row(id=u'ARTICLE-00130:Sorrento F24L - reboot', name=None),\n",
       " Row(id=u'ARTICLE-00073:Sorrento F23L - Change the phone ringtone and notification sound', name=None),\n",
       " Row(id=u'ARTICLE-00057:MeeToo 1.0 - Back up files', name=None),\n",
       " Row(id=u'ARTICLE-00209:MeeToo 5.0 - Battery Life', name=None),\n",
       " Row(id=u'ARTICLE-00014:MeeToo 3.0 - Transfer Contacts', name=None),\n",
       " Row(id=u'ARTICLE-00278:Ronin S1 - Transfer Contacts', name=None),\n",
       " Row(id=u'ARTICLE-00277:Ronin S1 - Change the phone ringtone and notification sound', name=None),\n",
       " Row(id=u'ARTICLE-00033:iFruit 3 - Back up files', name=None),\n",
       " Row(id=u'ARTICLE-00102:Ronin Novelty Note 3 - overheat', name=None),\n",
       " Row(id=u'ARTICLE-00141:Sorrento F32L - Back up files', name=None),\n",
       " Row(id=u'ARTICLE-00193:MeeToo 2.0 - Change the phone ringtone and notification sound', name=None),\n",
       " Row(id=u'ARTICLE-00296:iFruit 5A - Transfer Contacts', name=None),\n",
       " Row(id=u'ARTICLE-00155:Sorrento F30L - Battery Life', name=None),\n",
       " Row(id=u'ARTICLE-00279:Ronin S1 - Back up files', name=None),\n",
       " Row(id=u'ARTICLE-00198:MeeToo 2.0 - overheat', name=None),\n",
       " Row(id=u'ARTICLE-00072:iFruit 4 - overheating', name=None),\n",
       " Row(id=u'ARTICLE-00094:Titanic 2500 - reboot', name=None),\n",
       " Row(id=u'ARTICLE-00170:Sorrento F41L - Transfer Contacts', name=None),\n",
       " Row(id=u'ARTICLE-00249:Sorrento F40L - Back up files', name=None),\n",
       " Row(id=u'ARTICLE-00254:Sorrento F01L - Transfer Contacts', name=None),\n",
       " Row(id=u'ARTICLE-00189:MeeToo 4.0 - Back up files', name=None),\n",
       " Row(id=u'ARTICLE-00162:Sorrento F10L - overheat', name=None),\n",
       " Row(id=u'ARTICLE-00233:Sorrento F33L - Battery Life', name=None),\n",
       " Row(id=u'ARTICLE-00259:Sorrento F11L - Change the phone ringtone and notification sound', name=None),\n",
       " Row(id=u'ARTICLE-00128:Sorrento F24L - Transfer Contacts', name=None),\n",
       " Row(id=u'ARTICLE-00192:MeeToo 4.0 - overheats', name=None),\n",
       " Row(id=u'ARTICLE-00187:MeeToo 4.0 - Change the phone ringtone and notification sound', name=None),\n",
       " Row(id=u'ARTICLE-00188:MeeToo 4.0 - Transfer Contacts', name=None),\n",
       " Row(id=u'ARTICLE-00007:Titanic 2100 - Change the phone ringtone and notification sound', name=None),\n",
       " Row(id=u'ARTICLE-00138:Sorrento F20L - overheats', name=None),\n",
       " Row(id=u'ARTICLE-00111:Ronin Novelty Note 4 - Back up files', name=None),\n",
       " Row(id=u'ARTICLE-00139:Sorrento F32L - Change the phone ringtone and notification sound', name=None),\n",
       " Row(id=u'ARTICLE-00081:Titanic 2200 - Back up files', name=None),\n",
       " Row(id=u'ARTICLE-00114:Ronin Novelty Note 4 - overheat', name=None),\n",
       " Row(id=u'ARTICLE-00020:MeeToo 3.1 - Transfer Contacts', name=None),\n",
       " Row(id=u'ARTICLE-00059:MeeToo 1.0 - Battery Life', name=None),\n",
       " Row(id=u'ARTICLE-00197:MeeToo 2.0 - Battery Life', name=None),\n",
       " Row(id=u'ARTICLE-00291:Ronin S2 - Back up files', name=None),\n",
       " Row(id=u'ARTICLE-00238:iFruit 4A - reboots', name=None),\n",
       " Row(id=u'ARTICLE-00066:Sorrento F21L - overheating', name=None),\n",
       " Row(id=u'ARTICLE-00177:Titanic DeckChairs - Back up files', name=None),\n",
       " Row(id=u'ARTICLE-00086:Ronin Novelty Note 1 - Transfer Contacts', name=None),\n",
       " Row(id=u'ARTICLE-00075:Sorrento F23L - Back up files', name=None),\n",
       " Row(id=u'ARTICLE-00022:MeeToo 3.1 - reboots', name=None),\n",
       " Row(id=u'ARTICLE-00183:MeeToo 4.1 - Back up files', name=None),\n",
       " Row(id=u'ARTICLE-00127:Sorrento F24L - Change the phone ringtone and notification sound', name=None),\n",
       " Row(id=u'ARTICLE-00174:Sorrento F41L - overheating', name=None),\n",
       " Row(id=u'ARTICLE-00237:iFruit 4A - Back up files', name=None),\n",
       " Row(id=u'ARTICLE-00251:Sorrento F40L - Battery Life', name=None),\n",
       " Row(id=u'ARTICLE-00120:iFruit 3A - overheating', name=None),\n",
       " Row(id=u'ARTICLE-00147:Sorrento F22L - Back up files', name=None),\n",
       " Row(id=u'ARTICLE-00110:Ronin Novelty Note 4 - Transfer Contacts', name=None),\n",
       " Row(id=u'ARTICLE-00121:Titanic 2300 - Change the phone ringtone and notification sound', name=None),\n",
       " Row(id=u'ARTICLE-00041:iFruit 2 - Battery Life', name=None),\n",
       " Row(id=u'ARTICLE-00244:Sorrento F31L - reboots', name=None),\n",
       " Row(id=u'ARTICLE-00028:iFruit 1 - rebooting', name=None),\n",
       " Row(id=u'ARTICLE-00294:Ronin S2 - overheating', name=None),\n",
       " Row(id=u'ARTICLE-00018:MeeToo 3.0 - overheat', name=None),\n",
       " Row(id=u'ARTICLE-00190:MeeToo 4.0 - reboots', name=None),\n",
       " Row(id=u'ARTICLE-00173:Sorrento F41L - Battery Life', name=None),\n",
       " Row(id=u'ARTICLE-00241:Sorrento F31L - Change the phone ringtone and notification sound', name=None),\n",
       " Row(id=u'ARTICLE-00246:Sorrento F31L - overheating', name=None),\n",
       " Row(id=u'ARTICLE-00143:Sorrento F32L - Battery Life', name=None),\n",
       " Row(id=u'ARTICLE-00107:Ronin Novelty Note 2 - Battery Life', name=None),\n",
       " Row(id=u'ARTICLE-00179:Titanic DeckChairs - Battery Life', name=None),\n",
       " Row(id=u'ARTICLE-00297:iFruit 5A - Back up files', name=None),\n",
       " Row(id=u'ARTICLE-00129:Sorrento F24L - Back up files', name=None),\n",
       " Row(id=u'ARTICLE-00101:Ronin Novelty Note 3 - Battery Life', name=None),\n",
       " Row(id=u'ARTICLE-00043:iFruit 5 - Change the phone ringtone and notification sound', name=None),\n",
       " Row(id=u'ARTICLE-00224:Titanic 1100 - Transfer Contacts', name=None),\n",
       " Row(id=u'ARTICLE-00113:Ronin Novelty Note 4 - Battery Life', name=None),\n",
       " Row(id=u'ARTICLE-00265:Titanic 2400 - Change the phone ringtone and notification sound', name=None),\n",
       " Row(id=u'ARTICLE-00281:Ronin S1 - Battery Life', name=None),\n",
       " Row(id=u'ARTICLE-00044:iFruit 5 - Transfer Contacts', name=None),\n",
       " Row(id=u'ARTICLE-00060:MeeToo 1.0 - overheating', name=None),\n",
       " Row(id=u'ARTICLE-00218:Titanic 3000 - Transfer Contacts', name=None),\n",
       " Row(id=u'ARTICLE-00267:Titanic 2400 - Back up files', name=None),\n",
       " Row(id=u'ARTICLE-00214:MeeToo 5.1 - reboot', name=None),\n",
       " Row(id=u'ARTICLE-00071:iFruit 4 - Battery Life', name=None)]"
      ]
     },
     "execution_count": 9,
     "metadata": {},
     "output_type": "execute_result"
    }
   ],
   "source": [
    "sqlContext.sql(\"select * from data_new\").collect()"
   ]
  },
  {
   "cell_type": "code",
   "execution_count": 11,
   "metadata": {
    "collapsed": false
   },
   "outputs": [],
   "source": [
    "!sudo cp /etc/hive/conf/hive-site.xml /usr/lib/spark/conf"
   ]
  },
  {
   "cell_type": "code",
   "execution_count": null,
   "metadata": {
    "collapsed": false
   },
   "outputs": [],
   "source": [
    "##Open Another ternimal\n",
    "##In Beeline shell, perform below steps - ($beeline -u jdbc:hive2://localhost:10000/default -n root -p cloudera )\n",
    "## 1. Review list of available tables  - show tables;\n",
    "## 2. Create a table digital with 2 fields  id string, name string for same data - CREATE TABLE digital(id string,name string)ROW FORMAT DELIMITED FIELDS TERMINATED BY ','\n",
    "## 3. Review list of available tables - show tables;\n",
    "## 4. load data into the table - load data local inpath '/home/cloudera/training_materials/data/Knowlist.txt' into table digital \n",
    "## 5. Check content of the table - select * from digital;"
   ]
  },
  {
   "cell_type": "code",
   "execution_count": null,
   "metadata": {
    "collapsed": true
   },
   "outputs": [],
   "source": [
    "##In Spark SQL\n",
    "## Create data frame using the table\n",
    "## Verify same number of records are available here"
   ]
  },
  {
   "cell_type": "code",
   "execution_count": 12,
   "metadata": {
    "collapsed": false
   },
   "outputs": [
    {
     "ename": "AnalysisException",
     "evalue": "u'Table not found: digital; line 1 pos 14'",
     "output_type": "error",
     "traceback": [
      "\u001b[0;31m---------------------------------------------------------------------------\u001b[0m",
      "\u001b[0;31mAnalysisException\u001b[0m                         Traceback (most recent call last)",
      "\u001b[0;32m<ipython-input-12-198fbf5ddbbc>\u001b[0m in \u001b[0;36m<module>\u001b[0;34m()\u001b[0m\n\u001b[0;32m----> 1\u001b[0;31m \u001b[0msqlContext\u001b[0m\u001b[0;34m.\u001b[0m\u001b[0msql\u001b[0m\u001b[0;34m(\u001b[0m\u001b[0;34m\"select * from digital\"\u001b[0m\u001b[0;34m)\u001b[0m\u001b[0;34m.\u001b[0m\u001b[0mCollect\u001b[0m\u001b[0;34m(\u001b[0m\u001b[0;34m)\u001b[0m\u001b[0;34m\u001b[0m\u001b[0m\n\u001b[0m",
      "\u001b[0;32m/usr/lib/spark/python/pyspark/sql/context.py\u001b[0m in \u001b[0;36msql\u001b[0;34m(self, sqlQuery)\u001b[0m\n\u001b[1;32m    578\u001b[0m         \u001b[0;34m[\u001b[0m\u001b[0mRow\u001b[0m\u001b[0;34m(\u001b[0m\u001b[0mf1\u001b[0m\u001b[0;34m=\u001b[0m\u001b[0;36m1\u001b[0m\u001b[0;34m,\u001b[0m \u001b[0mf2\u001b[0m\u001b[0;34m=\u001b[0m\u001b[0;34mu'row1'\u001b[0m\u001b[0;34m)\u001b[0m\u001b[0;34m,\u001b[0m \u001b[0mRow\u001b[0m\u001b[0;34m(\u001b[0m\u001b[0mf1\u001b[0m\u001b[0;34m=\u001b[0m\u001b[0;36m2\u001b[0m\u001b[0;34m,\u001b[0m \u001b[0mf2\u001b[0m\u001b[0;34m=\u001b[0m\u001b[0;34mu'row2'\u001b[0m\u001b[0;34m)\u001b[0m\u001b[0;34m,\u001b[0m \u001b[0mRow\u001b[0m\u001b[0;34m(\u001b[0m\u001b[0mf1\u001b[0m\u001b[0;34m=\u001b[0m\u001b[0;36m3\u001b[0m\u001b[0;34m,\u001b[0m \u001b[0mf2\u001b[0m\u001b[0;34m=\u001b[0m\u001b[0;34mu'row3'\u001b[0m\u001b[0;34m)\u001b[0m\u001b[0;34m]\u001b[0m\u001b[0;34m\u001b[0m\u001b[0m\n\u001b[1;32m    579\u001b[0m         \"\"\"\n\u001b[0;32m--> 580\u001b[0;31m         \u001b[0;32mreturn\u001b[0m \u001b[0mDataFrame\u001b[0m\u001b[0;34m(\u001b[0m\u001b[0mself\u001b[0m\u001b[0;34m.\u001b[0m\u001b[0m_ssql_ctx\u001b[0m\u001b[0;34m.\u001b[0m\u001b[0msql\u001b[0m\u001b[0;34m(\u001b[0m\u001b[0msqlQuery\u001b[0m\u001b[0;34m)\u001b[0m\u001b[0;34m,\u001b[0m \u001b[0mself\u001b[0m\u001b[0;34m)\u001b[0m\u001b[0;34m\u001b[0m\u001b[0m\n\u001b[0m\u001b[1;32m    581\u001b[0m \u001b[0;34m\u001b[0m\u001b[0m\n\u001b[1;32m    582\u001b[0m     \u001b[0;34m@\u001b[0m\u001b[0msince\u001b[0m\u001b[0;34m(\u001b[0m\u001b[0;36m1.0\u001b[0m\u001b[0;34m)\u001b[0m\u001b[0;34m\u001b[0m\u001b[0m\n",
      "\u001b[0;32m/usr/lib/spark/python/lib/py4j-0.9-src.zip/py4j/java_gateway.py\u001b[0m in \u001b[0;36m__call__\u001b[0;34m(self, *args)\u001b[0m\n\u001b[1;32m    811\u001b[0m         \u001b[0manswer\u001b[0m \u001b[0;34m=\u001b[0m \u001b[0mself\u001b[0m\u001b[0;34m.\u001b[0m\u001b[0mgateway_client\u001b[0m\u001b[0;34m.\u001b[0m\u001b[0msend_command\u001b[0m\u001b[0;34m(\u001b[0m\u001b[0mcommand\u001b[0m\u001b[0;34m)\u001b[0m\u001b[0;34m\u001b[0m\u001b[0m\n\u001b[1;32m    812\u001b[0m         return_value = get_return_value(\n\u001b[0;32m--> 813\u001b[0;31m             answer, self.gateway_client, self.target_id, self.name)\n\u001b[0m\u001b[1;32m    814\u001b[0m \u001b[0;34m\u001b[0m\u001b[0m\n\u001b[1;32m    815\u001b[0m         \u001b[0;32mfor\u001b[0m \u001b[0mtemp_arg\u001b[0m \u001b[0;32min\u001b[0m \u001b[0mtemp_args\u001b[0m\u001b[0;34m:\u001b[0m\u001b[0;34m\u001b[0m\u001b[0m\n",
      "\u001b[0;32m/usr/lib/spark/python/pyspark/sql/utils.py\u001b[0m in \u001b[0;36mdeco\u001b[0;34m(*a, **kw)\u001b[0m\n\u001b[1;32m     49\u001b[0m                                              e.java_exception.getStackTrace()))\n\u001b[1;32m     50\u001b[0m             \u001b[0;32mif\u001b[0m \u001b[0ms\u001b[0m\u001b[0;34m.\u001b[0m\u001b[0mstartswith\u001b[0m\u001b[0;34m(\u001b[0m\u001b[0;34m'org.apache.spark.sql.AnalysisException: '\u001b[0m\u001b[0;34m)\u001b[0m\u001b[0;34m:\u001b[0m\u001b[0;34m\u001b[0m\u001b[0m\n\u001b[0;32m---> 51\u001b[0;31m                 \u001b[0;32mraise\u001b[0m \u001b[0mAnalysisException\u001b[0m\u001b[0;34m(\u001b[0m\u001b[0ms\u001b[0m\u001b[0;34m.\u001b[0m\u001b[0msplit\u001b[0m\u001b[0;34m(\u001b[0m\u001b[0;34m': '\u001b[0m\u001b[0;34m,\u001b[0m \u001b[0;36m1\u001b[0m\u001b[0;34m)\u001b[0m\u001b[0;34m[\u001b[0m\u001b[0;36m1\u001b[0m\u001b[0;34m]\u001b[0m\u001b[0;34m,\u001b[0m \u001b[0mstackTrace\u001b[0m\u001b[0;34m)\u001b[0m\u001b[0;34m\u001b[0m\u001b[0m\n\u001b[0m\u001b[1;32m     52\u001b[0m             \u001b[0;32mif\u001b[0m \u001b[0ms\u001b[0m\u001b[0;34m.\u001b[0m\u001b[0mstartswith\u001b[0m\u001b[0;34m(\u001b[0m\u001b[0;34m'java.lang.IllegalArgumentException: '\u001b[0m\u001b[0;34m)\u001b[0m\u001b[0;34m:\u001b[0m\u001b[0;34m\u001b[0m\u001b[0m\n\u001b[1;32m     53\u001b[0m                 \u001b[0;32mraise\u001b[0m \u001b[0mIllegalArgumentException\u001b[0m\u001b[0;34m(\u001b[0m\u001b[0ms\u001b[0m\u001b[0;34m.\u001b[0m\u001b[0msplit\u001b[0m\u001b[0;34m(\u001b[0m\u001b[0;34m': '\u001b[0m\u001b[0;34m,\u001b[0m \u001b[0;36m1\u001b[0m\u001b[0;34m)\u001b[0m\u001b[0;34m[\u001b[0m\u001b[0;36m1\u001b[0m\u001b[0;34m]\u001b[0m\u001b[0;34m,\u001b[0m \u001b[0mstackTrace\u001b[0m\u001b[0;34m)\u001b[0m\u001b[0;34m\u001b[0m\u001b[0m\n",
      "\u001b[0;31mAnalysisException\u001b[0m: u'Table not found: digital; line 1 pos 14'"
     ]
    }
   ],
   "source": [
    "sqlContext.sql(\"select * from digital\").Collect()"
   ]
  },
  {
   "cell_type": "code",
   "execution_count": null,
   "metadata": {
    "collapsed": false
   },
   "outputs": [],
   "source": [
    "sqlContext.sql(\"select * from digital\").count()"
   ]
  },
  {
   "cell_type": "code",
   "execution_count": null,
   "metadata": {
    "collapsed": true
   },
   "outputs": [],
   "source": []
  }
 ],
 "metadata": {
  "kernelspec": {
   "display_name": "Python 2",
   "language": "python",
   "name": "python2"
  },
  "language_info": {
   "codemirror_mode": {
    "name": "ipython",
    "version": 2
   },
   "file_extension": ".py",
   "mimetype": "text/x-python",
   "name": "python",
   "nbconvert_exporter": "python",
   "pygments_lexer": "ipython2",
   "version": "2.7.13"
  }
 },
 "nbformat": 4,
 "nbformat_minor": 2
}
