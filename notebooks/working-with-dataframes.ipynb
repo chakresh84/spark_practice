{
 "cells": [
  {
   "cell_type": "markdown",
   "metadata": {},
   "source": [
    "#### Step1: Create the dataframe and Display the content of the dataframe. (from json file):"
   ]
  },
  {
   "cell_type": "markdown",
   "metadata": {},
   "source": [
    "#### Step 2: Print the schema in a  tree format."
   ]
  },
  {
   "cell_type": "markdown",
   "metadata": {},
   "source": [
    "#### Step 3: Select only the first_name column."
   ]
  },
  {
   "cell_type": "markdown",
   "metadata": {},
   "source": [
    "#### Step 4: Select the  people whose id is greater than 10."
   ]
  },
  {
   "cell_type": "markdown",
   "metadata": {},
   "source": [
    "#### Step 5: Count the people by gender."
   ]
  },
  {
   "cell_type": "code",
   "execution_count": 1,
   "metadata": {
    "collapsed": true
   },
   "outputs": [],
   "source": [
    "from pyspark.sql import SQLContext\n",
    "sql_context = SQLContext(sc)"
   ]
  },
  {
   "cell_type": "code",
   "execution_count": 15,
   "metadata": {
    "collapsed": true
   },
   "outputs": [],
   "source": [
    "df = sql_context.read.json(\"file:/home/cloudera/db_pune/training_materials/data/userdetails.json\")"
   ]
  },
  {
   "cell_type": "code",
   "execution_count": 16,
   "metadata": {
    "collapsed": false
   },
   "outputs": [
    {
     "name": "stdout",
     "output_type": "stream",
     "text": [
      "+--------------------+--------------------+----------+------+---+---------------+---------+---------------+----------+\n",
      "|                city|               email|first_name|gender| id|     ip_address|last_name|           race| timestamp|\n",
      "+--------------------+--------------------+----------+------+---+---------------+---------+---------------+----------+\n",
      "|               Miami|   wbell0@tumblr.com|     Wayne|  Male|  1| 77.152.229.131|     Bell|    Costa Rican|1463468947|\n",
      "|              Xiejia|   aallen1@state.gov|   Anthony|  Male|  2|  62.49.195.170|    Allen|       Comanche|1447538277|\n",
      "|            Illintsi|ehenderson2@thegu...|      Eric|  Male|  3| 136.129.71.231|Henderson|       Comanche|1476462811|\n",
      "|           Tugusirna|  jsmith3@spiegel.de|     Jimmy|  Male|  4|117.176.172.187|    Smith|Native Hawaiian|1445804900|\n",
      "|           Nasīrābād|dwheeler4@vkontak...|     Diana|Female|  5|119.222.120.140|  Wheeler|         Lumbee|1460377451|\n",
      "|             Pousada|      khall5@pbs.org|     Karen|Female|  6|   9.111.177.81|     Hall|     Polynesian|1450344798|\n",
      "|              Évreux| prodriguez6@wsj.com|    Philip|  Male|  7|  202.53.81.233|Rodriguez|      Malaysian|1459998561|\n",
      "|              Vihāri|    abryant7@com.com|    Ashley|Female|  8|163.245.127.162|   Bryant|         Lumbee|1445570397|\n",
      "|            Magnitka|    ngrant8@nasa.gov|     Norma|Female|  9| 43.133.191.129|    Grant|     Sri Lankan|1462939469|\n",
      "|               Keffi|    hlewis9@ucsd.edu|     Helen|Female| 10| 74.149.202.229|    Lewis|     Salvadoran|1474416280|\n",
      "|        Волочаевское| lmccoya@jiathis.com|     Larry|  Male| 11|   36.136.37.15|    Mccoy|     Venezuelan|1474672688|\n",
      "|             Madison|  ewoodb@youtube.com|     Emily|Female| 12|  7.239.252.142|     Wood|       Peruvian|1478199845|\n",
      "|             Cicheng|palvarezc@delicio...|   Patrick|  Male| 13|  184.86.19.219|  Alvarez|          Yuman|1443691208|\n",
      "|          Xiaomenjia| ebowmand@usnews.com|    Eugene|  Male| 14| 173.159.51.207|   Bowman|      Chickasaw|1452109688|\n",
      "|               Boaco|   pwrighte@furl.net|   Phyllis|Female| 15|159.165.133.224|   Wright|   Puerto Rican|1441154207|\n",
      "|             Iturama|      rrosef@cmu.edu|       Roy|  Male| 16|  52.205.107.86|     Rose|      Pakistani|1463401327|\n",
      "|             Tochigi|ahunterg@acquiret...|    Albert|  Male| 17| 21.237.126.164|   Hunter|    Costa Rican|1457692077|\n",
      "|Petite Rivière de...|ahowardh@guardian...|   Antonio|  Male| 18|111.107.201.180|   Howard|      Pakistani|1444392400|\n",
      "|         Zaliznychne|rstonei@macromedi...|    Robert|  Male| 19| 189.196.30.146|    Stone|         Ottawa|1458466303|\n",
      "|          Sukahening|dcrawfordj@netsca...|   Dorothy|Female| 20|  146.5.243.193| Crawford|      Menominee|1463590952|\n",
      "+--------------------+--------------------+----------+------+---+---------------+---------+---------------+----------+\n",
      "only showing top 20 rows\n",
      "\n"
     ]
    }
   ],
   "source": [
    "df.show()"
   ]
  },
  {
   "cell_type": "code",
   "execution_count": 17,
   "metadata": {
    "collapsed": false
   },
   "outputs": [
    {
     "name": "stdout",
     "output_type": "stream",
     "text": [
      "root\n",
      " |-- city: string (nullable = true)\n",
      " |-- email: string (nullable = true)\n",
      " |-- first_name: string (nullable = true)\n",
      " |-- gender: string (nullable = true)\n",
      " |-- id: long (nullable = true)\n",
      " |-- ip_address: string (nullable = true)\n",
      " |-- last_name: string (nullable = true)\n",
      " |-- race: string (nullable = true)\n",
      " |-- timestamp: string (nullable = true)\n",
      "\n"
     ]
    }
   ],
   "source": [
    "df.printSchema()"
   ]
  },
  {
   "cell_type": "code",
   "execution_count": 19,
   "metadata": {
    "collapsed": false
   },
   "outputs": [
    {
     "name": "stdout",
     "output_type": "stream",
     "text": [
      "+----------+\n",
      "|first_name|\n",
      "+----------+\n",
      "|     Wayne|\n",
      "|   Anthony|\n",
      "|      Eric|\n",
      "+----------+\n",
      "only showing top 3 rows\n",
      "\n"
     ]
    }
   ],
   "source": [
    "df.select(\"first_name\").show(3)"
   ]
  },
  {
   "cell_type": "code",
   "execution_count": 21,
   "metadata": {
    "collapsed": false
   },
   "outputs": [
    {
     "name": "stdout",
     "output_type": "stream",
     "text": [
      "+---+\n",
      "| id|\n",
      "+---+\n",
      "| 11|\n",
      "| 12|\n",
      "| 13|\n",
      "| 14|\n",
      "| 15|\n",
      "| 16|\n",
      "| 17|\n",
      "| 18|\n",
      "| 19|\n",
      "| 20|\n",
      "| 21|\n",
      "| 22|\n",
      "| 23|\n",
      "| 24|\n",
      "| 25|\n",
      "| 26|\n",
      "| 27|\n",
      "| 28|\n",
      "| 29|\n",
      "| 30|\n",
      "+---+\n",
      "only showing top 20 rows\n",
      "\n"
     ]
    }
   ],
   "source": [
    "df.select(\"id\").where(df.id>10).show()"
   ]
  },
  {
   "cell_type": "code",
   "execution_count": 27,
   "metadata": {
    "collapsed": false
   },
   "outputs": [
    {
     "name": "stdout",
     "output_type": "stream",
     "text": [
      "+------+-----+\n",
      "|gender|count|\n",
      "+------+-----+\n",
      "|Female|  507|\n",
      "|  Male|  493|\n",
      "+------+-----+\n",
      "\n"
     ]
    }
   ],
   "source": [
    "df.select(\"gender\").groupBy(df.gender).count().show()"
   ]
  },
  {
   "cell_type": "code",
   "execution_count": 28,
   "metadata": {
    "collapsed": true
   },
   "outputs": [],
   "source": [
    "from pyspark.sql import functions"
   ]
  },
  {
   "cell_type": "code",
   "execution_count": 30,
   "metadata": {
    "collapsed": false
   },
   "outputs": [
    {
     "name": "stdout",
     "output_type": "stream",
     "text": [
      "+------+---------+\n",
      "|gender|count(id)|\n",
      "+------+---------+\n",
      "|Female|      507|\n",
      "|  Male|      493|\n",
      "+------+---------+\n",
      "\n"
     ]
    }
   ],
   "source": [
    "df.groupBy(\"gender\").agg(functions.count(\"id\")).show()"
   ]
  },
  {
   "cell_type": "code",
   "execution_count": null,
   "metadata": {
    "collapsed": true
   },
   "outputs": [],
   "source": []
  },
  {
   "cell_type": "code",
   "execution_count": null,
   "metadata": {
    "collapsed": true
   },
   "outputs": [],
   "source": []
  },
  {
   "cell_type": "code",
   "execution_count": null,
   "metadata": {
    "collapsed": true
   },
   "outputs": [],
   "source": []
  },
  {
   "cell_type": "code",
   "execution_count": null,
   "metadata": {
    "collapsed": true
   },
   "outputs": [],
   "source": []
  }
 ],
 "metadata": {
  "kernelspec": {
   "display_name": "Python 2",
   "language": "python",
   "name": "python2"
  },
  "language_info": {
   "codemirror_mode": {
    "name": "ipython",
    "version": 2
   },
   "file_extension": ".py",
   "mimetype": "text/x-python",
   "name": "python",
   "nbconvert_exporter": "python",
   "pygments_lexer": "ipython2",
   "version": "2.7.13"
  }
 },
 "nbformat": 4,
 "nbformat_minor": 0
}
