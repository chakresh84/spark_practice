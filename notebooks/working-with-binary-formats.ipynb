{
 "cells": [
  {
   "cell_type": "markdown",
   "metadata": {},
   "source": [
    "#### Step 1: Load the movies.avro file in memory"
   ]
  },
  {
   "cell_type": "code",
   "execution_count": 1,
   "metadata": {
    "collapsed": true
   },
   "outputs": [],
   "source": [
    "!hdfs dfs -put /home/cloudera/db_pune/training_materials/data/movies.avro /user/cloudera"
   ]
  },
  {
   "cell_type": "markdown",
   "metadata": {},
   "source": [
    "#### Step 2: Create SQL Context"
   ]
  },
  {
   "cell_type": "code",
   "execution_count": 4,
   "metadata": {
    "collapsed": false
   },
   "outputs": [],
   "source": [
    "from pyspark.sql import SQLContext\n",
    "sql_context = SQLContext(sc)"
   ]
  },
  {
   "cell_type": "markdown",
   "metadata": {},
   "source": [
    "#### Step 3: Create a dataframe from the file"
   ]
  },
  {
   "cell_type": "code",
   "execution_count": 7,
   "metadata": {
    "collapsed": false
   },
   "outputs": [],
   "source": [
    "\n",
    "df = sql_context.read.format(\"com.databricks.spark.avro\").load(\"/user/cloudera/movies.avro\")"
   ]
  },
  {
   "cell_type": "markdown",
   "metadata": {},
   "source": [
    "#### Step 4: Verify Column header for  the file"
   ]
  },
  {
   "cell_type": "code",
   "execution_count": 9,
   "metadata": {
    "collapsed": false
   },
   "outputs": [
    {
     "name": "stdout",
     "output_type": "stream",
     "text": [
      "+---+--------------------+--------------------+\n",
      "| id|                name|               genre|\n",
      "+---+--------------------+--------------------+\n",
      "|  1|    Toy Story (1995)|Animation|Childre...|\n",
      "|  2|      Jumanji (1995)|Adventure|Childre...|\n",
      "|  3|Grumpier Old Men ...|      Comedy|Romance|\n",
      "|  4|Waiting to Exhale...|        Comedy|Drama|\n",
      "|  5|Father of the Bri...|              Comedy|\n",
      "|  6|         Heat (1995)|Action|Crime|Thri...|\n",
      "|  7|      Sabrina (1995)|      Comedy|Romance|\n",
      "|  8| Tom and Huck (1995)|Adventure|Children's|\n",
      "|  9| Sudden Death (1995)|              Action|\n",
      "| 10|    GoldenEye (1995)|Action|Adventure|...|\n",
      "| 11|American Presiden...|Comedy|Drama|Romance|\n",
      "| 12|Dracula: Dead and...|       Comedy|Horror|\n",
      "| 13|        Balto (1995)|Animation|Children's|\n",
      "| 14|        Nixon (1995)|               Drama|\n",
      "| 15|Cutthroat Island ...|Action|Adventure|...|\n",
      "| 16|       Casino (1995)|      Drama|Thriller|\n",
      "| 17|Sense and Sensibi...|       Drama|Romance|\n",
      "| 18|   Four Rooms (1995)|            Thriller|\n",
      "| 19|Ace Ventura: When...|              Comedy|\n",
      "| 20|  Money Train (1995)|              Action|\n",
      "+---+--------------------+--------------------+\n",
      "only showing top 20 rows\n",
      "\n"
     ]
    }
   ],
   "source": [
    "df.show()"
   ]
  },
  {
   "cell_type": "markdown",
   "metadata": {},
   "source": [
    "#### Step 5: Print the first 5 rows of the dataframe"
   ]
  },
  {
   "cell_type": "code",
   "execution_count": 12,
   "metadata": {
    "collapsed": false
   },
   "outputs": [
    {
     "data": {
      "text/plain": [
       "['id', 'name', 'genre']"
      ]
     },
     "execution_count": 12,
     "metadata": {},
     "output_type": "execute_result"
    }
   ],
   "source": [
    "df.columns"
   ]
  },
  {
   "cell_type": "markdown",
   "metadata": {},
   "source": [
    "#### Step 6: Sort the movies based on alphabetical order"
   ]
  },
  {
   "cell_type": "code",
   "execution_count": 14,
   "metadata": {
    "collapsed": false
   },
   "outputs": [
    {
     "name": "stdout",
     "output_type": "stream",
     "text": [
      "+--------------------+\n",
      "|                name|\n",
      "+--------------------+\n",
      "|$1000000 Duck (1971)|\n",
      "|'Night Mother (1986)|\n",
      "|'Til There Was Yo...|\n",
      "|   'burbs The (1989)|\n",
      "|...And Justice fo...|\n",
      "|        1-900 (1994)|\n",
      "|10 Things I Hate ...|\n",
      "|101 Dalmatians (1...|\n",
      "|101 Dalmatians (1...|\n",
      "| 12 Angry Men (1957)|\n",
      "|13th Warrior The ...|\n",
      "|          187 (1997)|\n",
      "|2 Days in the Val...|\n",
      "|     20 Dates (1998)|\n",
      "|200 Cigarettes (1...|\n",
      "|20000 Leagues Und...|\n",
      "|2001: A Space Ody...|\n",
      "|         2010 (1984)|\n",
      "|24 7: Twenty Four...|\n",
      "|24-hour Woman (1998)|\n",
      "+--------------------+\n",
      "only showing top 20 rows\n",
      "\n"
     ]
    }
   ],
   "source": [
    "df.select(\"name\").sort(\"name\").show()"
   ]
  },
  {
   "cell_type": "markdown",
   "metadata": {},
   "source": [
    "#### Step 7: Write the output in parquet format"
   ]
  },
  {
   "cell_type": "code",
   "execution_count": 15,
   "metadata": {
    "collapsed": false
   },
   "outputs": [
    {
     "name": "stderr",
     "output_type": "stream",
     "text": [
      "/usr/lib/spark/python/pyspark/sql/dataframe.py:121: UserWarning: saveAsParquetFile is deprecated. Use write.parquet() instead.\n",
      "  warnings.warn(\"saveAsParquetFile is deprecated. Use write.parquet() instead.\")\n"
     ]
    }
   ],
   "source": [
    "df.saveAsParquetFile(\"/user/cloudera/movies.parquet\")"
   ]
  },
  {
   "cell_type": "markdown",
   "metadata": {},
   "source": [
    "#### Step 8: Review the content of the new parquet file"
   ]
  },
  {
   "cell_type": "code",
   "execution_count": 16,
   "metadata": {
    "collapsed": false
   },
   "outputs": [
    {
     "name": "stdout",
     "output_type": "stream",
     "text": [
      "Found 5 items\r\n",
      "-rw-r--r--   1 cloudera cloudera          0 2017-03-29 03:01 /user/cloudera/movies.parquet/_SUCCESS\r\n",
      "-rw-r--r--   1 cloudera cloudera        395 2017-03-29 03:01 /user/cloudera/movies.parquet/_common_metadata\r\n",
      "-rw-r--r--   1 cloudera cloudera       1167 2017-03-29 03:01 /user/cloudera/movies.parquet/_metadata\r\n",
      "-rw-r--r--   1 cloudera cloudera      44368 2017-03-29 03:01 /user/cloudera/movies.parquet/part-r-00000-31e5a451-a0f1-4953-a434-b796fbb018e2.gz.parquet\r\n",
      "-rw-r--r--   1 cloudera cloudera      14447 2017-03-29 03:01 /user/cloudera/movies.parquet/part-r-00001-31e5a451-a0f1-4953-a434-b796fbb018e2.gz.parquet\r\n"
     ]
    }
   ],
   "source": [
    "!hdfs dfs -ls /user/cloudera/movies.parquet"
   ]
  }
 ],
 "metadata": {
  "kernelspec": {
   "display_name": "Python 2",
   "language": "python",
   "name": "python2"
  },
  "language_info": {
   "codemirror_mode": {
    "name": "ipython",
    "version": 2
   },
   "file_extension": ".py",
   "mimetype": "text/x-python",
   "name": "python",
   "nbconvert_exporter": "python",
   "pygments_lexer": "ipython2",
   "version": "2.7.13"
  }
 },
 "nbformat": 4,
 "nbformat_minor": 0
}
